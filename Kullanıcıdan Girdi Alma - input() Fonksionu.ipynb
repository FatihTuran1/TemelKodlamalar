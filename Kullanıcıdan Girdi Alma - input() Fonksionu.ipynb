{
 "cells": [
  {
   "cell_type": "code",
   "execution_count": 1,
   "id": "16ff1e14",
   "metadata": {},
   "outputs": [
    {
     "name": "stdout",
     "output_type": "stream",
     "text": [
      "25\n"
     ]
    },
    {
     "data": {
      "text/plain": [
       "'25'"
      ]
     },
     "execution_count": 1,
     "metadata": {},
     "output_type": "execute_result"
    }
   ],
   "source": [
    "input()"
   ]
  },
  {
   "cell_type": "code",
   "execution_count": 2,
   "id": "afd868f9",
   "metadata": {},
   "outputs": [
    {
     "name": "stdout",
     "output_type": "stream",
     "text": [
      "Lütfen bir sayı giriniz:25\n"
     ]
    },
    {
     "data": {
      "text/plain": [
       "'25'"
      ]
     },
     "execution_count": 2,
     "metadata": {},
     "output_type": "execute_result"
    }
   ],
   "source": [
    "input(\"Lütfen bir sayı giriniz:\")"
   ]
  },
  {
   "cell_type": "code",
   "execution_count": 3,
   "id": "b71cdd00",
   "metadata": {},
   "outputs": [
    {
     "name": "stdout",
     "output_type": "stream",
     "text": [
      "Lütfen bir sayı giriniz:35\n",
      "Kullanıcıdan girdiği değer 35\n"
     ]
    }
   ],
   "source": [
    "a = input(\"Lütfen bir sayı giriniz:\")\n",
    "print(\"Kullanıcıdan girdiği değer\",a)"
   ]
  },
  {
   "cell_type": "code",
   "execution_count": 4,
   "id": "f679bde5",
   "metadata": {},
   "outputs": [
    {
     "name": "stdout",
     "output_type": "stream",
     "text": [
      "Lütfen bir sayı giriniz:35\n",
      "353535\n"
     ]
    }
   ],
   "source": [
    "a = input(\"Lütfen bir sayı giriniz:\")\n",
    "print(a * 3)"
   ]
  },
  {
   "cell_type": "code",
   "execution_count": 5,
   "id": "677551a7",
   "metadata": {},
   "outputs": [
    {
     "name": "stdout",
     "output_type": "stream",
     "text": [
      "Lütfen bir sayı giriniz:35\n",
      "<class 'str'>\n"
     ]
    }
   ],
   "source": [
    "a = input(\"Lütfen bir sayı giriniz:\")\n",
    "print(type(a))"
   ]
  },
  {
   "cell_type": "code",
   "execution_count": 6,
   "id": "34ec5c1c",
   "metadata": {},
   "outputs": [
    {
     "name": "stdout",
     "output_type": "stream",
     "text": [
      "Lütfen bir sayı giriniz:35\n",
      "105\n"
     ]
    }
   ],
   "source": [
    "a = int(input(\"Lütfen bir sayı giriniz:\"))\n",
    "print(a * 3)\n"
   ]
  },
  {
   "cell_type": "code",
   "execution_count": 7,
   "id": "7d46f4f4",
   "metadata": {},
   "outputs": [
    {
     "name": "stdout",
     "output_type": "stream",
     "text": [
      "Birinci Sayı:34\n",
      "İkinci Sayı:35\n",
      "Üçüncü Sayı:42\n",
      "Toplamları 111\n"
     ]
    }
   ],
   "source": [
    "a = int(input(\"Birinci Sayı:\"))\n",
    "b = int(input(\"İkinci Sayı:\"))\n",
    "c = int(input(\"Üçüncü Sayı:\"))\n",
    "print(\"Toplamları\",a+b+c)"
   ]
  },
  {
   "cell_type": "code",
   "execution_count": 8,
   "id": "6310cfb0",
   "metadata": {},
   "outputs": [],
   "source": [
    "                                     #Hata"
   ]
  },
  {
   "cell_type": "code",
   "execution_count": 9,
   "id": "a8154d68",
   "metadata": {},
   "outputs": [
    {
     "name": "stdout",
     "output_type": "stream",
     "text": [
      "a:35flmdhldfh\n"
     ]
    },
    {
     "ename": "ValueError",
     "evalue": "invalid literal for int() with base 10: '35flmdhldfh'",
     "output_type": "error",
     "traceback": [
      "\u001b[1;31m---------------------------------------------------------------------------\u001b[0m",
      "\u001b[1;31mValueError\u001b[0m                                Traceback (most recent call last)",
      "Input \u001b[1;32mIn [9]\u001b[0m, in \u001b[0;36m<cell line: 1>\u001b[1;34m()\u001b[0m\n\u001b[1;32m----> 1\u001b[0m a \u001b[38;5;241m=\u001b[39m \u001b[38;5;28;43mint\u001b[39;49m\u001b[43m(\u001b[49m\u001b[38;5;28;43minput\u001b[39;49m\u001b[43m(\u001b[49m\u001b[38;5;124;43m\"\u001b[39;49m\u001b[38;5;124;43ma:\u001b[39;49m\u001b[38;5;124;43m\"\u001b[39;49m\u001b[43m)\u001b[49m\u001b[43m)\u001b[49m\n\u001b[0;32m      2\u001b[0m \u001b[38;5;28mprint\u001b[39m(a)\n",
      "\u001b[1;31mValueError\u001b[0m: invalid literal for int() with base 10: '35flmdhldfh'"
     ]
    }
   ],
   "source": [
    "a = int(input(\"a:\"))\n",
    "print(a)"
   ]
  },
  {
   "cell_type": "code",
   "execution_count": 11,
   "id": "a9b597b6",
   "metadata": {},
   "outputs": [
    {
     "name": "stdout",
     "output_type": "stream",
     "text": [
      "a:35gsdhshdsf\n",
      "Lütfen inputu doğru formatta girin.\n"
     ]
    }
   ],
   "source": [
    "try:\n",
    "    a = a= int(input(\"a:\"))\n",
    "    print(a)\n",
    "except ValueError:\n",
    "    print(\"Lütfen inputu doğru formatta girin.\")"
   ]
  },
  {
   "cell_type": "code",
   "execution_count": 12,
   "id": "cbdd81d9",
   "metadata": {},
   "outputs": [
    {
     "name": "stdout",
     "output_type": "stream",
     "text": [
      "isim:Mustafa\n",
      "isminiz Mustafa\n"
     ]
    }
   ],
   "source": [
    "isim = input(\"isim:\")\n",
    "print(\"isminiz\",isim)"
   ]
  },
  {
   "cell_type": "code",
   "execution_count": null,
   "id": "44db62bd",
   "metadata": {},
   "outputs": [],
   "source": []
  }
 ],
 "metadata": {
  "kernelspec": {
   "display_name": "Python 3 (ipykernel)",
   "language": "python",
   "name": "python3"
  },
  "language_info": {
   "codemirror_mode": {
    "name": "ipython",
    "version": 3
   },
   "file_extension": ".py",
   "mimetype": "text/x-python",
   "name": "python",
   "nbconvert_exporter": "python",
   "pygments_lexer": "ipython3",
   "version": "3.9.12"
  }
 },
 "nbformat": 4,
 "nbformat_minor": 5
}
