{
 "cells": [
  {
   "cell_type": "code",
   "execution_count": 2,
   "id": "a70153c3",
   "metadata": {},
   "outputs": [
    {
     "name": "stdout",
     "output_type": "stream",
     "text": [
      "35\n"
     ]
    }
   ],
   "source": [
    "print(35)"
   ]
  },
  {
   "cell_type": "code",
   "execution_count": 3,
   "id": "5828a106",
   "metadata": {},
   "outputs": [
    {
     "name": "stdout",
     "output_type": "stream",
     "text": [
      "3.14\n"
     ]
    }
   ],
   "source": [
    "print(3.14)"
   ]
  },
  {
   "cell_type": "code",
   "execution_count": 4,
   "id": "30dd44ea",
   "metadata": {},
   "outputs": [
    {
     "name": "stdout",
     "output_type": "stream",
     "text": [
      "Murat\n"
     ]
    }
   ],
   "source": [
    "print(\"Murat\")"
   ]
  },
  {
   "cell_type": "code",
   "execution_count": 5,
   "id": "abbc70fb",
   "metadata": {},
   "outputs": [
    {
     "name": "stdout",
     "output_type": "stream",
     "text": [
      "19\n"
     ]
    }
   ],
   "source": [
    "a = 4\n",
    "b = 15\n",
    "print(a+b)"
   ]
  },
  {
   "cell_type": "code",
   "execution_count": 6,
   "id": "faabf435",
   "metadata": {},
   "outputs": [
    {
     "name": "stdout",
     "output_type": "stream",
     "text": [
      "35 4 54 Merhaba Python\n"
     ]
    }
   ],
   "source": [
    "print(35,4,54,\"Merhaba\",\"Python\")"
   ]
  },
  {
   "cell_type": "code",
   "execution_count": 13,
   "id": "21da57e1",
   "metadata": {},
   "outputs": [],
   "source": [
    "                                 #Stringlerdeki Özel Karakterler.\n",
    "                                  #\\n Satır oluşturmaya yarıyor."
   ]
  },
  {
   "cell_type": "code",
   "execution_count": 12,
   "id": "1346e8f3",
   "metadata": {},
   "outputs": [
    {
     "name": "stdout",
     "output_type": "stream",
     "text": [
      "Merhaba\n",
      "Nasılsın\n",
      "İyi misin\n"
     ]
    }
   ],
   "source": [
    "print(\"Merhaba\\nNasılsın\\nİyi misin\")"
   ]
  },
  {
   "cell_type": "code",
   "execution_count": 17,
   "id": "a70d9c02",
   "metadata": {},
   "outputs": [],
   "source": [
    "               #\\t Yazılar veya rakamlar arasında belirtilen miktarda boşluk bırakıyor.          "
   ]
  },
  {
   "cell_type": "code",
   "execution_count": 14,
   "id": "8781f298",
   "metadata": {},
   "outputs": [
    {
     "name": "stdout",
     "output_type": "stream",
     "text": [
      "Merhaba           İyi Misin?\n"
     ]
    }
   ],
   "source": [
    "print(\"Merhaba           İyi Misin?\")"
   ]
  },
  {
   "cell_type": "code",
   "execution_count": 15,
   "id": "9303ef40",
   "metadata": {},
   "outputs": [
    {
     "name": "stdout",
     "output_type": "stream",
     "text": [
      "Ocak\tMart\tŞubat\n"
     ]
    }
   ],
   "source": [
    "print(\"Ocak\\tMart\\tŞubat\")"
   ]
  },
  {
   "cell_type": "code",
   "execution_count": 18,
   "id": "158fdddb",
   "metadata": {},
   "outputs": [
    {
     "name": "stdout",
     "output_type": "stream",
     "text": [
      "a\t\t\t\t\tb\n"
     ]
    }
   ],
   "source": [
    "print(\"a\\t\\t\\t\\t\\tb\")"
   ]
  },
  {
   "cell_type": "code",
   "execution_count": 19,
   "id": "650fbac7",
   "metadata": {},
   "outputs": [],
   "source": [
    "#type() fonksionu"
   ]
  },
  {
   "cell_type": "code",
   "execution_count": 23,
   "id": "665ef9ea",
   "metadata": {},
   "outputs": [
    {
     "data": {
      "text/plain": [
       "int"
      ]
     },
     "execution_count": 23,
     "metadata": {},
     "output_type": "execute_result"
    }
   ],
   "source": [
    "type(34)                              #(Tamsayı) türü."
   ]
  },
  {
   "cell_type": "code",
   "execution_count": 21,
   "id": "8a232402",
   "metadata": {},
   "outputs": [
    {
     "data": {
      "text/plain": [
       "float"
      ]
     },
     "execution_count": 21,
     "metadata": {},
     "output_type": "execute_result"
    }
   ],
   "source": [
    "type(3.14)                         #(Ondalık Sayı) türü."
   ]
  },
  {
   "cell_type": "code",
   "execution_count": 22,
   "id": "1de87d79",
   "metadata": {},
   "outputs": [
    {
     "data": {
      "text/plain": [
       "str"
      ]
     },
     "execution_count": 22,
     "metadata": {},
     "output_type": "execute_result"
    }
   ],
   "source": [
    "type(\"Murat\")                     #(Karakter Dizisi) türü."
   ]
  },
  {
   "cell_type": "code",
   "execution_count": 29,
   "id": "e8f629c4",
   "metadata": {},
   "outputs": [],
   "source": [
    "    #Sep parametresi sayesin de değerlerin arasına (. /) Gibi Özel karakterler koyulmasını sağlar."
   ]
  },
  {
   "cell_type": "code",
   "execution_count": 30,
   "id": "ea439997",
   "metadata": {},
   "outputs": [
    {
     "name": "stdout",
     "output_type": "stream",
     "text": [
      "35/43/52/64\n"
     ]
    }
   ],
   "source": [
    "print(35,43,52,64,sep = \"/\")"
   ]
  },
  {
   "cell_type": "code",
   "execution_count": 33,
   "id": "8e229d16",
   "metadata": {},
   "outputs": [
    {
     "name": "stdout",
     "output_type": "stream",
     "text": [
      "Mustafa\n",
      "Murat\n",
      "Coşkun\n"
     ]
    }
   ],
   "source": [
    "print(\"Mustafa\",\"Murat\",\"Coşkun\",sep = \"\\n\")"
   ]
  },
  {
   "cell_type": "code",
   "execution_count": 34,
   "id": "d31167ea",
   "metadata": {},
   "outputs": [
    {
     "name": "stdout",
     "output_type": "stream",
     "text": [
      "06/04/2015\n"
     ]
    }
   ],
   "source": [
    "print(\"06\",\"04\",\"2015\",sep= \"/\")"
   ]
  },
  {
   "cell_type": "code",
   "execution_count": 35,
   "id": "9bfe9c96",
   "metadata": {},
   "outputs": [],
   "source": [
    "             #Yıldızlı Parametreler.(*)Yazıların birbirinden kopmasını sağlar."
   ]
  },
  {
   "cell_type": "code",
   "execution_count": 36,
   "id": "cdcf8868",
   "metadata": {},
   "outputs": [
    {
     "name": "stdout",
     "output_type": "stream",
     "text": [
      "P y t h o n\n"
     ]
    }
   ],
   "source": [
    "print(*\"Python\")"
   ]
  },
  {
   "cell_type": "code",
   "execution_count": 37,
   "id": "1dc43880",
   "metadata": {},
   "outputs": [
    {
     "name": "stdout",
     "output_type": "stream",
     "text": [
      "P/y/t/h/o/n\n"
     ]
    }
   ],
   "source": [
    "print(*\"Python\",sep = \"/\")"
   ]
  },
  {
   "cell_type": "code",
   "execution_count": 38,
   "id": "7ea1796b",
   "metadata": {},
   "outputs": [
    {
     "name": "stdout",
     "output_type": "stream",
     "text": [
      "T.B.M.M\n"
     ]
    }
   ],
   "source": [
    "print(\"T\",\"B\",\"M\",\"M\",sep = \".\")"
   ]
  },
  {
   "cell_type": "code",
   "execution_count": 39,
   "id": "fa5222e8",
   "metadata": {},
   "outputs": [
    {
     "name": "stdout",
     "output_type": "stream",
     "text": [
      "T.B.M.M\n"
     ]
    }
   ],
   "source": [
    "print(*\"TBMM\",sep = \".\")"
   ]
  },
  {
   "cell_type": "code",
   "execution_count": 40,
   "id": "bc53d1a9",
   "metadata": {},
   "outputs": [],
   "source": [
    "                     #Formatlama Verilen sayı ve kelimeyi bastırmayı sağlar"
   ]
  },
  {
   "cell_type": "code",
   "execution_count": 42,
   "id": "65794a3e",
   "metadata": {},
   "outputs": [
    {
     "name": "stdout",
     "output_type": "stream",
     "text": [
      "5 + 2 nın toplamı 7 dır.\n"
     ]
    }
   ],
   "source": [
    "a = 5\n",
    "b = 2\n",
    "print(\"{} + {} nın toplamı {} dır.\".format(a,b,a+b))"
   ]
  },
  {
   "cell_type": "code",
   "execution_count": null,
   "id": "f1d30f1e",
   "metadata": {},
   "outputs": [],
   "source": [
    "        #Süslü parantezlerin formatın içindeki sayı hangi sıraya koyulacağını belirliyor."
   ]
  },
  {
   "cell_type": "code",
   "execution_count": 48,
   "id": "f3c440b2",
   "metadata": {},
   "outputs": [
    {
     "data": {
      "text/plain": [
       "'52 Murat 43'"
      ]
     },
     "execution_count": 48,
     "metadata": {},
     "output_type": "execute_result"
    }
   ],
   "source": [
    "\"{2} {1} {0}\".format(43,\"Murat\",52)"
   ]
  },
  {
   "cell_type": "code",
   "execution_count": null,
   "id": "cf8818f8",
   "metadata": {},
   "outputs": [],
   "source": [
    "#https://pyformat.info/"
   ]
  }
 ],
 "metadata": {
  "kernelspec": {
   "display_name": "Python 3 (ipykernel)",
   "language": "python",
   "name": "python3"
  },
  "language_info": {
   "codemirror_mode": {
    "name": "ipython",
    "version": 3
   },
   "file_extension": ".py",
   "mimetype": "text/x-python",
   "name": "python",
   "nbconvert_exporter": "python",
   "pygments_lexer": "ipython3",
   "version": "3.10.9"
  }
 },
 "nbformat": 4,
 "nbformat_minor": 5
}
