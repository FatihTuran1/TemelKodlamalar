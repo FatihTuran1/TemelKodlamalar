{
 "cells": [
  {
   "cell_type": "code",
   "execution_count": null,
   "id": "07dc0462",
   "metadata": {},
   "outputs": [],
   "source": [
    "                                   #and Operatörü"
   ]
  },
  {
   "cell_type": "code",
   "execution_count": 1,
   "id": "cf0b7440",
   "metadata": {},
   "outputs": [
    {
     "data": {
      "text/plain": [
       "True"
      ]
     },
     "execution_count": 1,
     "metadata": {},
     "output_type": "execute_result"
    }
   ],
   "source": [
    "1 < 2"
   ]
  },
  {
   "cell_type": "code",
   "execution_count": 2,
   "id": "5d49531f",
   "metadata": {},
   "outputs": [
    {
     "data": {
      "text/plain": [
       "True"
      ]
     },
     "execution_count": 2,
     "metadata": {},
     "output_type": "execute_result"
    }
   ],
   "source": [
    "\"Murat\" == \"Murat\""
   ]
  },
  {
   "cell_type": "code",
   "execution_count": 3,
   "id": "df9ca9a5",
   "metadata": {},
   "outputs": [
    {
     "data": {
      "text/plain": [
       "True"
      ]
     },
     "execution_count": 3,
     "metadata": {},
     "output_type": "execute_result"
    }
   ],
   "source": [
    "1 < 2 and \"Murat\" == \"Murat\""
   ]
  },
  {
   "cell_type": "code",
   "execution_count": 4,
   "id": "016dda90",
   "metadata": {},
   "outputs": [
    {
     "data": {
      "text/plain": [
       "False"
      ]
     },
     "execution_count": 4,
     "metadata": {},
     "output_type": "execute_result"
    }
   ],
   "source": [
    "1 > 2 and \"Murat\" == \"Murat\""
   ]
  },
  {
   "cell_type": "code",
   "execution_count": 5,
   "id": "42d89f4e",
   "metadata": {},
   "outputs": [
    {
     "data": {
      "text/plain": [
       "True"
      ]
     },
     "execution_count": 5,
     "metadata": {},
     "output_type": "execute_result"
    }
   ],
   "source": [
    "1 < 2 and \"Araba\" < \"Zula\" and 4.32 < 5.41"
   ]
  },
  {
   "cell_type": "code",
   "execution_count": 6,
   "id": "8ad63e70",
   "metadata": {},
   "outputs": [
    {
     "data": {
      "text/plain": [
       "False"
      ]
     },
     "execution_count": 6,
     "metadata": {},
     "output_type": "execute_result"
    }
   ],
   "source": [
    "1 < 2 and \"Araba\" > \"Zula\" and 4.32 < 5.41"
   ]
  },
  {
   "cell_type": "code",
   "execution_count": 8,
   "id": "da423e69",
   "metadata": {},
   "outputs": [
    {
     "data": {
      "text/plain": [
       "False"
      ]
     },
     "execution_count": 8,
     "metadata": {},
     "output_type": "execute_result"
    }
   ],
   "source": [
    " 1 > 2 and \"Araba\" < \"Zula\" and 4.32 < 5.41"
   ]
  },
  {
   "cell_type": "code",
   "execution_count": 9,
   "id": "6c5fb79c",
   "metadata": {},
   "outputs": [],
   "source": [
    "                                  #or Operatörü"
   ]
  },
  {
   "cell_type": "code",
   "execution_count": 10,
   "id": "4210d2c6",
   "metadata": {},
   "outputs": [
    {
     "data": {
      "text/plain": [
       "True"
      ]
     },
     "execution_count": 10,
     "metadata": {},
     "output_type": "execute_result"
    }
   ],
   "source": [
    "1 < 2"
   ]
  },
  {
   "cell_type": "code",
   "execution_count": 11,
   "id": "f83ce0c0",
   "metadata": {},
   "outputs": [
    {
     "data": {
      "text/plain": [
       "True"
      ]
     },
     "execution_count": 11,
     "metadata": {},
     "output_type": "execute_result"
    }
   ],
   "source": [
    "\"Murat\" == \"Murat\""
   ]
  },
  {
   "cell_type": "code",
   "execution_count": 12,
   "id": "5993dd9c",
   "metadata": {},
   "outputs": [
    {
     "data": {
      "text/plain": [
       "True"
      ]
     },
     "execution_count": 12,
     "metadata": {},
     "output_type": "execute_result"
    }
   ],
   "source": [
    "1 < 2 or \"Murat\" == \"Murat\""
   ]
  },
  {
   "cell_type": "code",
   "execution_count": 13,
   "id": "2c7de80e",
   "metadata": {},
   "outputs": [
    {
     "data": {
      "text/plain": [
       "False"
      ]
     },
     "execution_count": 13,
     "metadata": {},
     "output_type": "execute_result"
    }
   ],
   "source": [
    "1 > 2 or \"Murat\" != \"Murat\""
   ]
  },
  {
   "cell_type": "code",
   "execution_count": 14,
   "id": "ed61d2f0",
   "metadata": {},
   "outputs": [
    {
     "data": {
      "text/plain": [
       "True"
      ]
     },
     "execution_count": 14,
     "metadata": {},
     "output_type": "execute_result"
    }
   ],
   "source": [
    "1 > 2 or \"Araba\" < \"Zula\" or 4.32 > 5.41"
   ]
  },
  {
   "cell_type": "code",
   "execution_count": 15,
   "id": "74083d22",
   "metadata": {},
   "outputs": [
    {
     "data": {
      "text/plain": [
       "False"
      ]
     },
     "execution_count": 15,
     "metadata": {},
     "output_type": "execute_result"
    }
   ],
   "source": [
    "1 > 2 or \"Araba\" > \"Zula\" or 4.32 > 5.41"
   ]
  },
  {
   "cell_type": "code",
   "execution_count": 16,
   "id": "88f98eaa",
   "metadata": {},
   "outputs": [
    {
     "data": {
      "text/plain": [
       "True"
      ]
     },
     "execution_count": 16,
     "metadata": {},
     "output_type": "execute_result"
    }
   ],
   "source": [
    "1 < 2 or \"Araba\" > \"Zula\" or 4.32 > 5.41"
   ]
  },
  {
   "cell_type": "code",
   "execution_count": 17,
   "id": "a4dae069",
   "metadata": {},
   "outputs": [],
   "source": [
    "                                    #not Operatörü"
   ]
  },
  {
   "cell_type": "code",
   "execution_count": 18,
   "id": "a36f7fe8",
   "metadata": {},
   "outputs": [
    {
     "data": {
      "text/plain": [
       "True"
      ]
     },
     "execution_count": 18,
     "metadata": {},
     "output_type": "execute_result"
    }
   ],
   "source": [
    "2 == 2"
   ]
  },
  {
   "cell_type": "code",
   "execution_count": 19,
   "id": "659d2892",
   "metadata": {},
   "outputs": [
    {
     "data": {
      "text/plain": [
       "False"
      ]
     },
     "execution_count": 19,
     "metadata": {},
     "output_type": "execute_result"
    }
   ],
   "source": [
    "not 2 == 2"
   ]
  },
  {
   "cell_type": "code",
   "execution_count": 20,
   "id": "1c849507",
   "metadata": {},
   "outputs": [
    {
     "data": {
      "text/plain": [
       "False"
      ]
     },
     "execution_count": 20,
     "metadata": {},
     "output_type": "execute_result"
    }
   ],
   "source": [
    "not \"Murat\" != \"Mehmet\""
   ]
  },
  {
   "cell_type": "code",
   "execution_count": 21,
   "id": "8162a004",
   "metadata": {},
   "outputs": [],
   "source": [
    "                            #Operatörleri Beraber Kullanma"
   ]
  },
  {
   "cell_type": "code",
   "execution_count": 22,
   "id": "633ea89d",
   "metadata": {},
   "outputs": [
    {
     "data": {
      "text/plain": [
       "True"
      ]
     },
     "execution_count": 22,
     "metadata": {},
     "output_type": "execute_result"
    }
   ],
   "source": [
    "not (2.14 > 3.49 or (2 != 2 and \"Murat\" == \"Murat\"))"
   ]
  },
  {
   "cell_type": "code",
   "execution_count": null,
   "id": "26ee1416",
   "metadata": {},
   "outputs": [],
   "source": []
  }
 ],
 "metadata": {
  "kernelspec": {
   "display_name": "Python 3 (ipykernel)",
   "language": "python",
   "name": "python3"
  },
  "language_info": {
   "codemirror_mode": {
    "name": "ipython",
    "version": 3
   },
   "file_extension": ".py",
   "mimetype": "text/x-python",
   "name": "python",
   "nbconvert_exporter": "python",
   "pygments_lexer": "ipython3",
   "version": "3.9.12"
  }
 },
 "nbformat": 4,
 "nbformat_minor": 5
}
