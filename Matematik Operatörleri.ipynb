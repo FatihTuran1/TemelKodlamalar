{
 "cells": [
  {
   "cell_type": "code",
   "execution_count": 11,
   "id": "70bd0f4c",
   "metadata": {},
   "outputs": [],
   "source": [
    "                                       #Tamsayı Bölmesi(//)"
   ]
  },
  {
   "cell_type": "code",
   "execution_count": 13,
   "id": "11a129ac",
   "metadata": {},
   "outputs": [
    {
     "data": {
      "text/plain": [
       "9.583333333333334"
      ]
     },
     "execution_count": 13,
     "metadata": {},
     "output_type": "execute_result"
    }
   ],
   "source": [
    "a = 345\n",
    "b = 36\n",
    "a / b"
   ]
  },
  {
   "cell_type": "code",
   "execution_count": 14,
   "id": "e6db5604",
   "metadata": {},
   "outputs": [
    {
     "data": {
      "text/plain": [
       "9"
      ]
     },
     "execution_count": 14,
     "metadata": {},
     "output_type": "execute_result"
    }
   ],
   "source": [
    "a // b"
   ]
  },
  {
   "cell_type": "code",
   "execution_count": 15,
   "id": "70f6b78d",
   "metadata": {},
   "outputs": [
    {
     "data": {
      "text/plain": [
       "2.03770197486535"
      ]
     },
     "execution_count": 15,
     "metadata": {},
     "output_type": "execute_result"
    }
   ],
   "source": [
    "22.7 / 11.14"
   ]
  },
  {
   "cell_type": "code",
   "execution_count": 16,
   "id": "92bff05a",
   "metadata": {},
   "outputs": [
    {
     "data": {
      "text/plain": [
       "2.0"
      ]
     },
     "execution_count": 16,
     "metadata": {},
     "output_type": "execute_result"
    }
   ],
   "source": [
    "22.7 // 11.14"
   ]
  },
  {
   "cell_type": "code",
   "execution_count": 17,
   "id": "12761707",
   "metadata": {},
   "outputs": [],
   "source": [
    "                                        #Kalanı Bulma(%)\n",
    "                             #(%) 0 (ÇİFTLİ SAYI) (%) 1 (TEKLİ SAYI)"
   ]
  },
  {
   "cell_type": "code",
   "execution_count": 18,
   "id": "0d471d87",
   "metadata": {},
   "outputs": [
    {
     "data": {
      "text/plain": [
       "1"
      ]
     },
     "execution_count": 18,
     "metadata": {},
     "output_type": "execute_result"
    }
   ],
   "source": [
    "13 % 4"
   ]
  },
  {
   "cell_type": "code",
   "execution_count": 19,
   "id": "7a3bf67a",
   "metadata": {},
   "outputs": [
    {
     "data": {
      "text/plain": [
       "11.299999999999999"
      ]
     },
     "execution_count": 19,
     "metadata": {},
     "output_type": "execute_result"
    }
   ],
   "source": [
    "22.7 % 11.4"
   ]
  },
  {
   "cell_type": "code",
   "execution_count": 20,
   "id": "d5494157",
   "metadata": {},
   "outputs": [
    {
     "data": {
      "text/plain": [
       "0"
      ]
     },
     "execution_count": 20,
     "metadata": {},
     "output_type": "execute_result"
    }
   ],
   "source": [
    "4 % 2"
   ]
  },
  {
   "cell_type": "code",
   "execution_count": 21,
   "id": "83f25c90",
   "metadata": {},
   "outputs": [
    {
     "data": {
      "text/plain": [
       "2.0"
      ]
     },
     "execution_count": 21,
     "metadata": {},
     "output_type": "execute_result"
    }
   ],
   "source": [
    "4 / 2"
   ]
  },
  {
   "cell_type": "code",
   "execution_count": 22,
   "id": "e44cdfe4",
   "metadata": {},
   "outputs": [],
   "source": [
    "                                        #Üs Bulma(**)\n",
    "#Bu operatör bir sayının üssünü bulmamızı sağlar. Örnek olarak operatörün solundaki sayının sağdaki \n",
    "                             #sayıya göre üssünü ekrana basar.\n",
    "    "
   ]
  },
  {
   "cell_type": "code",
   "execution_count": 23,
   "id": "8e27fa01",
   "metadata": {},
   "outputs": [
    {
     "data": {
      "text/plain": [
       "16"
      ]
     },
     "execution_count": 23,
     "metadata": {},
     "output_type": "execute_result"
    }
   ],
   "source": [
    "2 ** 4"
   ]
  },
  {
   "cell_type": "code",
   "execution_count": 24,
   "id": "58fce29b",
   "metadata": {},
   "outputs": [
    {
     "data": {
      "text/plain": [
       "729"
      ]
     },
     "execution_count": 24,
     "metadata": {},
     "output_type": "execute_result"
    }
   ],
   "source": [
    "3 ** 6"
   ]
  },
  {
   "cell_type": "code",
   "execution_count": 26,
   "id": "12568105",
   "metadata": {},
   "outputs": [
    {
     "data": {
      "text/plain": [
       "8.0"
      ]
     },
     "execution_count": 26,
     "metadata": {},
     "output_type": "execute_result"
    }
   ],
   "source": [
    "64 ** 0.5"
   ]
  },
  {
   "cell_type": "code",
   "execution_count": 27,
   "id": "47538b75",
   "metadata": {},
   "outputs": [
    {
     "data": {
      "text/plain": [
       "5.0"
      ]
     },
     "execution_count": 27,
     "metadata": {},
     "output_type": "execute_result"
    }
   ],
   "source": [
    "25 ** 0.5"
   ]
  },
  {
   "cell_type": "code",
   "execution_count": 28,
   "id": "efcfaff4",
   "metadata": {},
   "outputs": [
    {
     "data": {
      "text/plain": [
       "349.4452746854649"
      ]
     },
     "execution_count": 28,
     "metadata": {},
     "output_type": "execute_result"
    }
   ],
   "source": [
    "122112** 0.5"
   ]
  },
  {
   "cell_type": "code",
   "execution_count": 29,
   "id": "316946ac",
   "metadata": {},
   "outputs": [
    {
     "data": {
      "text/plain": [
       "2.0"
      ]
     },
     "execution_count": 29,
     "metadata": {},
     "output_type": "execute_result"
    }
   ],
   "source": [
    "8 ** (1/3)"
   ]
  },
  {
   "cell_type": "code",
   "execution_count": 30,
   "id": "44102e4c",
   "metadata": {},
   "outputs": [
    {
     "data": {
      "text/plain": [
       "4"
      ]
     },
     "execution_count": 30,
     "metadata": {},
     "output_type": "execute_result"
    }
   ],
   "source": [
    "a = -4\n",
    "-a"
   ]
  },
  {
   "cell_type": "code",
   "execution_count": 32,
   "id": "1633108c",
   "metadata": {},
   "outputs": [
    {
     "data": {
      "text/plain": [
       "-4"
      ]
     },
     "execution_count": 32,
     "metadata": {},
     "output_type": "execute_result"
    }
   ],
   "source": [
    "a = 4\n",
    "-a"
   ]
  },
  {
   "cell_type": "code",
   "execution_count": 33,
   "id": "65146bf7",
   "metadata": {},
   "outputs": [
    {
     "data": {
      "text/plain": [
       "-4.0"
      ]
     },
     "execution_count": 33,
     "metadata": {},
     "output_type": "execute_result"
    }
   ],
   "source": [
    "8 + 4 * 3 /2 - 18"
   ]
  },
  {
   "cell_type": "code",
   "execution_count": 37,
   "id": "3b260c08",
   "metadata": {},
   "outputs": [
    {
     "data": {
      "text/plain": [
       "100"
      ]
     },
     "execution_count": 37,
     "metadata": {},
     "output_type": "execute_result"
    }
   ],
   "source": [
    "10 ** 2 "
   ]
  },
  {
   "cell_type": "code",
   "execution_count": 38,
   "id": "b28ae0ce",
   "metadata": {},
   "outputs": [
    {
     "data": {
      "text/plain": [
       "33"
      ]
     },
     "execution_count": 38,
     "metadata": {},
     "output_type": "execute_result"
    }
   ],
   "source": [
    "100 // 3"
   ]
  },
  {
   "cell_type": "code",
   "execution_count": null,
   "id": "c1e980b5",
   "metadata": {},
   "outputs": [],
   "source": []
  }
 ],
 "metadata": {
  "kernelspec": {
   "display_name": "Python 3 (ipykernel)",
   "language": "python",
   "name": "python3"
  },
  "language_info": {
   "codemirror_mode": {
    "name": "ipython",
    "version": 3
   },
   "file_extension": ".py",
   "mimetype": "text/x-python",
   "name": "python",
   "nbconvert_exporter": "python",
   "pygments_lexer": "ipython3",
   "version": "3.9.12"
  }
 },
 "nbformat": 4,
 "nbformat_minor": 5
}
